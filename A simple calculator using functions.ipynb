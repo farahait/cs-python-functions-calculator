{
 "cells": [
  {
   "cell_type": "markdown",
   "metadata": {},
   "source": [
    "## A simple calculator using functions\n",
    "\n",
    "1) Read code and discuss - ask questions!\n",
    "\n",
    "2) Comment code\n",
    "\n",
    "3) Extend the calculator with 5 more functions\n"
   ]
  },
  {
   "cell_type": "code",
   "execution_count": null,
   "metadata": {},
   "outputs": [
    {
     "name": "stdout",
     "output_type": "stream",
     "text": [
      "Welcome to my calculator\n",
      "A) Add numbers\n",
      "B) Subtract numbers\n",
      "C) Multiply numbers\n",
      "D) Divide numbers\n",
      "choose your option d\n",
      "enter the number 10\n",
      "enter the number 2\n",
      "the answer from your calcaulation is= 5.0\n",
      "A) Add numbers\n",
      "B) Subtract numbers\n",
      "C) Multiply numbers\n",
      "D) Divide numbers\n"
     ]
    }
   ],
   "source": [
    "def mainMenu():\n",
    "    validChoices = [\"A\", \"B\", \"C\", \"D\"]\n",
    "    valid = False\n",
    "    while not valid:\n",
    "        print(\"A) Add numbers\")\n",
    "        print(\"B) Subtract numbers\")\n",
    "        print(\"C) Multiply numbers\")\n",
    "        print(\"D) Divide numbers\")\n",
    "        choice = input(\"choose your option \").upper()\n",
    "        if choice not in validChoices:\n",
    "            print(\"sorry that is not a valid menu choice \")\n",
    "        else:\n",
    "            valid= True\n",
    "            \n",
    "    return choice\n",
    "    \n",
    "\n",
    "def enterNumber():\n",
    "    valid = False #Assigns boolean value in order to check if the condition is later on met \n",
    "                  #and will change the variable to a True value\n",
    "    while not valid:\n",
    "        try:\n",
    "            x=int(input(\"enter the number \"))\n",
    "            #y=int(input(\"enter the second number \"))\n",
    "            valid=True\n",
    "            \n",
    "        except ValueError: #VALIDATION - makes sure that the user input is an integer else it will return a msg asking\n",
    "                                    #them to reinter the right input \n",
    "            print(\"That was not a valid number.. please try again\")\n",
    "    \n",
    "    return x\n",
    "\n",
    "def add(x,y):\n",
    "    \n",
    "    return x+y \n",
    "\n",
    "def subtract(x,y):\n",
    "    \n",
    "    return x-y\n",
    "\n",
    "def multiplayer(x,y):\n",
    "    \n",
    "    return x*y\n",
    "\n",
    "def divider(x,y):\n",
    "    \n",
    "    return x/y\n",
    "#main program starts here\n",
    "print(\"Welcome to my calculator\")\n",
    "again = \"y\"\n",
    "while again == \"y\":\n",
    "    \n",
    "    userChoice = mainMenu()\n",
    "    if userChoice == \"A\":\n",
    "        answer = add(enterNumber(), enterNumber())\n",
    "    elif userChoice == \"B\":\n",
    "        answer = subtract(enterNumber(), enterNumber())\n",
    "    elif userChoice == \"C\":\n",
    "        answer = multiplayer(enterNumber(), enterNumber())\n",
    "    elif userChoice == \"D\":\n",
    "        answer = divider(enterNumber(), enterNumber())\n",
    "    else:\n",
    "        print(\"error - we should never get here\")\n",
    "    \n",
    "    print(\"the answer from your calcaulation is= \"+str(answer))\n",
    "    "
   ]
  }
 ],
 "metadata": {
  "kernelspec": {
   "display_name": "Python 3",
   "language": "python",
   "name": "python3"
  },
  "language_info": {
   "codemirror_mode": {
    "name": "ipython",
    "version": 3
   },
   "file_extension": ".py",
   "mimetype": "text/x-python",
   "name": "python",
   "nbconvert_exporter": "python",
   "pygments_lexer": "ipython3",
   "version": "3.6.5"
  }
 },
 "nbformat": 4,
 "nbformat_minor": 2
}
